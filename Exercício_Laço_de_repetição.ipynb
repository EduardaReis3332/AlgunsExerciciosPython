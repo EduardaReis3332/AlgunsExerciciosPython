{
  "nbformat": 4,
  "nbformat_minor": 0,
  "metadata": {
    "colab": {
      "provenance": [],
      "authorship_tag": "ABX9TyNT+1rf8wJKhMxip0otXNr2",
      "include_colab_link": true
    },
    "kernelspec": {
      "name": "python3",
      "display_name": "Python 3"
    },
    "language_info": {
      "name": "python"
    }
  },
  "cells": [
    {
      "cell_type": "markdown",
      "metadata": {
        "id": "view-in-github",
        "colab_type": "text"
      },
      "source": [
        "<a href=\"https://colab.research.google.com/github/EduardaReis3332/AlgunsExerciciosPython/blob/main/Exerc%C3%ADcio_La%C3%A7o_de_repeti%C3%A7%C3%A3o.ipynb\" target=\"_parent\"><img src=\"https://colab.research.google.com/assets/colab-badge.svg\" alt=\"Open In Colab\"/></a>"
      ]
    },
    {
      "cell_type": "markdown",
      "source": [
        "# Nível Fácil (Iniciante):"
      ],
      "metadata": {
        "id": "0kubH9C5_bLh"
      }
    },
    {
      "cell_type": "code",
      "source": [
        "#1.Escreva um programa em Python para imprimir os números de 1 a 10.\n",
        "\n",
        "def cont_dez():\n",
        "    for i in range(1, 11):\n",
        "        print(i)\n",
        "\n",
        "cont_dez()\n"
      ],
      "metadata": {
        "colab": {
          "base_uri": "https://localhost:8080/"
        },
        "id": "YbXvrpHmAR5T",
        "outputId": "783a1c58-36c5-4c09-ed18-b234eab0e205"
      },
      "execution_count": null,
      "outputs": [
        {
          "output_type": "stream",
          "name": "stdout",
          "text": [
            "1\n",
            "2\n",
            "3\n",
            "4\n",
            "5\n",
            "6\n",
            "7\n",
            "8\n",
            "9\n",
            "10\n"
          ]
        }
      ]
    },
    {
      "cell_type": "markdown",
      "source": [
        "\n",
        "\n",
        "\n",
        "---\n",
        "\n"
      ],
      "metadata": {
        "id": "bxsly5rwDHA2"
      }
    },
    {
      "cell_type": "code",
      "source": [
        "# 2 - Faça um programa que imprima os números pares de 0 a 20.\n",
        "\n",
        "# usando while\n",
        "\n",
        "print('Usando while:')\n",
        "def par_vinte():\n",
        "    i = 0\n",
        "    while i <= 20:\n",
        "        if i % 2 == 0:\n",
        "          print(i)\n",
        "        i += 1\n",
        "\n",
        "par_vinte()\n",
        "\n",
        "# usando for\n",
        "\n",
        "print('Usando for:')\n",
        "def par_vinte():\n",
        "    for i in range(0, 21, 2):\n",
        "      print(i)\n",
        "\n",
        "par_vinte()\n"
      ],
      "metadata": {
        "colab": {
          "base_uri": "https://localhost:8080/"
        },
        "id": "E8B9HJcHAS5N",
        "outputId": "833f1f8f-f97c-4e93-b4d5-2cbcd778e47b"
      },
      "execution_count": null,
      "outputs": [
        {
          "output_type": "stream",
          "name": "stdout",
          "text": [
            "Usando while:\n",
            "0\n",
            "2\n",
            "4\n",
            "6\n",
            "8\n",
            "10\n",
            "12\n",
            "14\n",
            "16\n",
            "18\n",
            "20\n",
            "Usando for:\n",
            "0\n",
            "2\n",
            "4\n",
            "6\n",
            "8\n",
            "10\n",
            "12\n",
            "14\n",
            "16\n",
            "18\n",
            "20\n"
          ]
        }
      ]
    },
    {
      "cell_type": "markdown",
      "source": [
        "\n",
        "\n",
        "---\n",
        "\n"
      ],
      "metadata": {
        "id": "g9HzjNoiDLBw"
      }
    },
    {
      "cell_type": "code",
      "source": [
        "# 3 - Escreva um programa que calcule e imprima a soma dos números de 1 a 100.\n",
        "\n",
        "def soma_cem():\n",
        "  soma = sum(range(1,101))\n",
        "  print(f\"A soma de 1 a 100 é {soma}\")\n",
        "\n",
        "soma_cem()"
      ],
      "metadata": {
        "colab": {
          "base_uri": "https://localhost:8080/"
        },
        "id": "WkTl8_jfATf8",
        "outputId": "99a8dbf6-7b0b-4fa4-eeee-473a8502f53d"
      },
      "execution_count": null,
      "outputs": [
        {
          "output_type": "stream",
          "name": "stdout",
          "text": [
            "A soma de 1 a 100 é 5050\n"
          ]
        }
      ]
    },
    {
      "cell_type": "markdown",
      "source": [
        "\n",
        "\n",
        "---\n",
        "\n"
      ],
      "metadata": {
        "id": "hyD9X1wbDMtl"
      }
    },
    {
      "cell_type": "code",
      "source": [
        "# 4. Crie um programa que imprima a tabuada de multiplicação de um número específico (por exemplo, 5).\n",
        "num = int(input(\"Qual número você quer multiplicar?(2 a 10) \"))\n",
        "\n",
        "if 2 <= num <= 10:\n",
        "  i = 1\n",
        "  while i <= 10:\n",
        "    print(f'{num} x {i} = {num * i}')\n",
        "    i += 1\n",
        "else:\n",
        "  print('Por favor, insira um número de 2 a 10')\n"
      ],
      "metadata": {
        "id": "jAbjwEPeAQz0",
        "colab": {
          "base_uri": "https://localhost:8080/"
        },
        "outputId": "d770cbe2-9386-4e5a-91d2-65ec397c0ca0"
      },
      "execution_count": null,
      "outputs": [
        {
          "output_type": "stream",
          "name": "stdout",
          "text": [
            "Qual número você quer multiplicar?(2 a 10) 6\n",
            "6 x 1 = 6\n",
            "6 x 2 = 12\n",
            "6 x 3 = 18\n",
            "6 x 4 = 24\n",
            "6 x 5 = 30\n",
            "6 x 6 = 36\n",
            "6 x 7 = 42\n",
            "6 x 8 = 48\n",
            "6 x 9 = 54\n",
            "6 x 10 = 60\n"
          ]
        }
      ]
    },
    {
      "cell_type": "markdown",
      "source": [
        "\n",
        "\n",
        "---\n",
        "\n"
      ],
      "metadata": {
        "id": "B5zrOJfhAVBE"
      }
    },
    {
      "cell_type": "code",
      "execution_count": null,
      "metadata": {
        "id": "j-PKdV7r_MCT",
        "colab": {
          "base_uri": "https://localhost:8080/"
        },
        "outputId": "326e44fd-bfb9-4503-f5e9-89abd066d82c"
      },
      "outputs": [
        {
          "output_type": "stream",
          "name": "stdout",
          "text": [
            "10\n",
            "9\n",
            "8\n",
            "7\n",
            "6\n",
            "5\n",
            "4\n",
            "3\n",
            "2\n",
            "1\n"
          ]
        }
      ],
      "source": [
        "#5. Faça um programa que imprima os números de 10 a 1 em ordem decrescente.\n",
        "\n",
        "def dez_um():\n",
        "  for i in range(10,0,-1):\n",
        "    print(i)\n",
        "  i += 1\n",
        "\n",
        "dez_um()\n"
      ]
    },
    {
      "cell_type": "markdown",
      "source": [
        "\n",
        "\n",
        "---\n",
        "\n"
      ],
      "metadata": {
        "id": "RkNp4BY7Aaip"
      }
    },
    {
      "cell_type": "code",
      "source": [
        "#6. Escreva um programa que imprima os primeiros 5 números da sequência de Fibonacci.\n",
        "\n",
        "# Definição de uma função chamada 'fibonacci' que recebe um parâmetro 'n'\n",
        "def fibonacci(n):\n",
        "    fib_sequence = [0, 1] # Inicialização da lista 'fib_sequence' com os dois primeiros números da sequência de Fibonacci\n",
        "    for i in range(2, n): # Loop que itera de 2 até 'n' (exclusivo) para gerar os próximos números da sequência\n",
        "        fib_sequence.append(fib_sequence[-1] + fib_sequence[-2])# Adiciona à lista 'fib_sequence' o próximo número da sequência de Fibonacci, que é a soma dos dois números anteriores na lista\n",
        "    return fib_sequence # Retorna a lista completa dos 'n' primeiros números da sequência de Fibonacci\n",
        "\n",
        "first_five_fibonacci = fibonacci(5) # Chama a função 'fibonacci' passando o argumento 5 e armazena o resultado na variável 'first_five_fibonacci'\n",
        "\n",
        "print(\"Os primeiros 5 números da sequência de Fibonacci são:\", first_five_fibonacci) # Imprime os primeiros 5 números da sequência de Fibonacci\n",
        "\n",
        "\n",
        "\n"
      ],
      "metadata": {
        "id": "wEa7Jyf5Af2O",
        "colab": {
          "base_uri": "https://localhost:8080/"
        },
        "outputId": "611a8aa7-7249-44fb-cbdd-0f9bb5a71714"
      },
      "execution_count": null,
      "outputs": [
        {
          "output_type": "stream",
          "name": "stdout",
          "text": [
            "Os primeiros 5 números da sequência de Fibonacci são: [0, 1, 1, 2, 3]\n"
          ]
        }
      ]
    },
    {
      "cell_type": "markdown",
      "source": [
        "\n",
        "\n",
        "---\n",
        "\n"
      ],
      "metadata": {
        "id": "f6nJ4usG3wa2"
      }
    },
    {
      "cell_type": "code",
      "source": [
        "# 7 - Faça um programa que imprima a média de uma lista de números.\n",
        "\n",
        "# Solicita ao usuário uma lista de 6 números separados por espaço e armazena a entrada na variável 'numbers'\n",
        "numbers = input(\"Digite uma lista de 6 números separados por espaço: \").split()\n",
        "# A função split() divide a string de entrada em substrings com base nos espaços em branco e retorna uma lista contendo essas substrings.\n",
        "\n",
        "# Em seguida, usamos uma list comprehension para converter cada substring em um número inteiro usando a função int(), criando assim uma lista de números inteiros.\n",
        "numbers = [int(num) for num in numbers]\n",
        "\n",
        "# Calcula a soma de todos os números na lista 'numbers' usando a função sum() e divide pelo número de elementos na lista usando a função len() para calcular a média\n",
        "average = sum(numbers) / len(numbers)\n",
        "\n",
        "# imprime a soma da lista\n",
        "print(f'A soma da lista é: {sum(numbers)}')\n",
        "\n",
        "# Imprime a média calculada\n",
        "print(f\"A média dos números na lista é: {average:.2f}\")\n"
      ],
      "metadata": {
        "id": "_Z-ZHvS2AkG5",
        "colab": {
          "base_uri": "https://localhost:8080/"
        },
        "outputId": "477383c3-4eca-4f73-8230-7aecac8d275c"
      },
      "execution_count": null,
      "outputs": [
        {
          "output_type": "stream",
          "name": "stdout",
          "text": [
            "Digite uma lista de 6 números separados por espaço: 2 65 7 35 9 3\n",
            "A soma da lista é: 121\n",
            "A média dos números na lista é: 20.17\n"
          ]
        }
      ]
    },
    {
      "cell_type": "markdown",
      "source": [
        "\n",
        "\n",
        "---\n",
        "\n"
      ],
      "metadata": {
        "id": "U8vK_fIHAnUY"
      }
    },
    {
      "cell_type": "code",
      "source": [
        "# 8 - Crie um programa que imprima os caracteres de uma string, um por linha.\n",
        "\n",
        "# Solicita ao usuário que insira uma string e armazena a entrada na variável 'string'\n",
        "string = input(\"Digite uma palavra: \")\n",
        "\n",
        "# Itera sobre cada caractere na string usando um loop 'for'\n",
        "for char in string:\n",
        "    # Imprime o caractere atual\n",
        "    print(char)"
      ],
      "metadata": {
        "id": "yG6f5BkwAopI",
        "colab": {
          "base_uri": "https://localhost:8080/"
        },
        "outputId": "d042b639-413d-4b67-fc85-6775faed7073"
      },
      "execution_count": null,
      "outputs": [
        {
          "output_type": "stream",
          "name": "stdout",
          "text": [
            "Digite uma palavra: eduarda\n",
            "e\n",
            "d\n",
            "u\n",
            "a\n",
            "r\n",
            "d\n",
            "a\n"
          ]
        }
      ]
    },
    {
      "cell_type": "markdown",
      "source": [
        "\n",
        "\n",
        "---\n",
        "\n"
      ],
      "metadata": {
        "id": "tGdSa0yJAuAW"
      }
    },
    {
      "cell_type": "code",
      "source": [
        "# 9 - Escreva um programa que verifique se um número é primo ou não.\n",
        "\n",
        "# Função para verificar se um número é primo\n",
        "def is_prime(num):\n",
        "    # Números menores que 2 não são primos\n",
        "    if num <= 1:\n",
        "        return False\n",
        "    # Verifica se o número é divisível por algum número além de 1 e ele mesmo\n",
        "    for i in range(2, int(num**0.5) + 1):\n",
        "        if num % i == 0:\n",
        "            return False\n",
        "    # Se não houver nenhum divisor além de 1 e o próprio número, então é primo\n",
        "    return True\n",
        "\n",
        "# Solicita ao usuário que insira um número\n",
        "number = int(input(\"Digite um número inteiro: \"))\n",
        "\n",
        "# Verifica se o número é primo chamando a função is_prime e imprime o resultado\n",
        "if is_prime(number):\n",
        "    print(f\"{number} é um número primo.\")\n",
        "else:\n",
        "    print(f\"{number} não é um número primo.\")\n"
      ],
      "metadata": {
        "id": "mCcrvispAu2m",
        "colab": {
          "base_uri": "https://localhost:8080/"
        },
        "outputId": "4a4ff60e-7aa7-449b-d82f-e20b37ad1471"
      },
      "execution_count": null,
      "outputs": [
        {
          "output_type": "stream",
          "name": "stdout",
          "text": [
            "Digite um número inteiro: 6\n",
            "6 não é um número primo.\n"
          ]
        }
      ]
    },
    {
      "cell_type": "markdown",
      "source": [
        "\n",
        "\n",
        "---\n",
        "\n"
      ],
      "metadata": {
        "id": "juqYwbWbBBGb"
      }
    },
    {
      "cell_type": "code",
      "source": [
        "# 10. Faça um programa que imprima os números de 1 a 20, pulando de 2 em 2.\n",
        "\n",
        "for i in range(1, 21, 2):\n",
        "    print(i)\n",
        "\n",
        "# Neste código:\n",
        "  #range(1, 21, 2) cria um intervalo de números de 1 a 20, com um passo de 2.\n",
        "  #Isso significa que começamos em 1, aumentamos de 2 em 2 e paramos antes de ultrapassar 20.\n",
        "  #Durante cada iteração do loop, o número atual é impresso."
      ],
      "metadata": {
        "id": "v4Ly6eAcBSuL",
        "colab": {
          "base_uri": "https://localhost:8080/"
        },
        "outputId": "6b174236-a7f6-423a-d2d3-73830ac222dc"
      },
      "execution_count": null,
      "outputs": [
        {
          "output_type": "stream",
          "name": "stdout",
          "text": [
            "1\n",
            "3\n",
            "5\n",
            "7\n",
            "9\n",
            "11\n",
            "13\n",
            "15\n",
            "17\n",
            "19\n"
          ]
        }
      ]
    },
    {
      "cell_type": "markdown",
      "source": [
        "\n",
        "\n",
        "---\n",
        "\n"
      ],
      "metadata": {
        "id": "zFsc97VoBRLI"
      }
    },
    {
      "cell_type": "code",
      "source": [
        "# 11. Crie um programa que imprima os números ímpares de 1 a 30.\n",
        "\n",
        "# Loop que vai de 1 a 30\n",
        "for i in range(1, 31):\n",
        "    # Verifica se o número é ímpar usando o operador de módulo (%)\n",
        "    if i % 2 != 0:\n",
        "        # Se for ímpar, imprime o número\n",
        "        print(i)"
      ],
      "metadata": {
        "id": "jgd41zrfBQyz",
        "colab": {
          "base_uri": "https://localhost:8080/"
        },
        "outputId": "8494ff19-a5f6-4f5b-81f4-b1ddcece44ba"
      },
      "execution_count": null,
      "outputs": [
        {
          "output_type": "stream",
          "name": "stdout",
          "text": [
            "1\n",
            "3\n",
            "5\n",
            "7\n",
            "9\n",
            "11\n",
            "13\n",
            "15\n",
            "17\n",
            "19\n",
            "21\n",
            "23\n",
            "25\n",
            "27\n",
            "29\n"
          ]
        }
      ]
    },
    {
      "cell_type": "markdown",
      "source": [
        "\n",
        "\n",
        "---\n",
        "\n"
      ],
      "metadata": {
        "id": "CBlWJRRQBXeF"
      }
    },
    {
      "cell_type": "code",
      "source": [
        "# 12. Escreva um programa que calcule o fatorial de um número.\n",
        "\n",
        "# Função para calcular o fatorial de um número\n",
        "def fatorial(n):\n",
        "    if n == 0 or n == 1: # Caso especial para 0 e 1: o fatorial é 1\n",
        "        return 1\n",
        "    else:\n",
        "        resultado = 1 # Inicializa o resultado como 1\n",
        "        for i in range(1, n + 1): # Loop para multiplicar todos os números de 1 até 'n'\n",
        "            resultado *= i\n",
        "        return resultado\n",
        "\n",
        "# Solicita ao usuário que insira um número inteiro\n",
        "numero = int(input(\"Digite um número inteiro para calcular o fatorial: \"))\n",
        "\n",
        "# Chama a função 'fatorial' com o número inserido e imprime o resultado\n",
        "print(\"O fatorial de\", numero, \"é:\", fatorial(numero))\n",
        "\n",
        "\n",
        "#Neste programa:\n",
        "  #A função fatorial(n) calcula o fatorial do número n.\n",
        "  #Se o número for 0 ou 1, o fatorial é 1.\n",
        "  #Caso contrário, a função usa um loop for para multiplicar todos\n",
        "  #os números de 1 até o número desejado para obter o fatorial.\n",
        "  #O resultado é então retornado e impresso."
      ],
      "metadata": {
        "id": "d1OMThEwBZxM",
        "colab": {
          "base_uri": "https://localhost:8080/"
        },
        "outputId": "e1ca7956-4d6c-4471-d431-40af4fcd1b5b"
      },
      "execution_count": null,
      "outputs": [
        {
          "output_type": "stream",
          "name": "stdout",
          "text": [
            "Digite um número inteiro para calcular o fatorial: 8\n",
            "O fatorial de 8 é: 40320\n"
          ]
        }
      ]
    },
    {
      "cell_type": "markdown",
      "source": [
        "\n",
        "\n",
        "---\n",
        "\n"
      ],
      "metadata": {
        "id": "-j8xE9bJBdYU"
      }
    },
    {
      "cell_type": "code",
      "source": [
        "# 13. Faça um programa que peça ao usuário para digitar números\n",
        "# até que ele digite um número negativo.\n",
        "# Em seguida, o programa imprime a soma dos números digitados.\n",
        "\n",
        "# Inicializa a variável para armazenar a soma dos números\n",
        "soma = 0\n",
        "\n",
        "# Loop infinito que continua até que um número negativo seja digitado\n",
        "while True:\n",
        "    # Solicita ao usuário que insira um número\n",
        "    numero = int(input(\"Digite um número (digite um número negativo para parar): \"))\n",
        "\n",
        "    # Verifica se o número digitado é negativo\n",
        "    if numero < 0:\n",
        "        # Se for negativo, o loop é interrompido\n",
        "        break\n",
        "\n",
        "    # Se o número não for negativo, adiciona-o à soma\n",
        "    soma += numero\n",
        "\n",
        "# Imprime a soma dos números digitados\n",
        "print(\"A soma dos números digitados é:\", soma)\n"
      ],
      "metadata": {
        "id": "-zFqZqPaBe2y",
        "colab": {
          "base_uri": "https://localhost:8080/"
        },
        "outputId": "f9599c58-0ae7-4a4c-b756-a7102fd83f6b"
      },
      "execution_count": null,
      "outputs": [
        {
          "output_type": "stream",
          "name": "stdout",
          "text": [
            "Digite um número (digite um número negativo para parar): 3\n",
            "Digite um número (digite um número negativo para parar): 4\n",
            "Digite um número (digite um número negativo para parar): 2\n",
            "Digite um número (digite um número negativo para parar): 78\n",
            "Digite um número (digite um número negativo para parar): 54\n",
            "Digite um número (digite um número negativo para parar): -9\n",
            "A soma dos números digitados é: 141\n"
          ]
        }
      ]
    },
    {
      "cell_type": "markdown",
      "source": [
        "\n",
        "\n",
        "---\n",
        "\n"
      ],
      "metadata": {
        "id": "FWypj4xVBkW1"
      }
    },
    {
      "cell_type": "code",
      "source": [
        "# 14. Escreva um programa que imprima os 10 primeiros números quadrados perfeitos.\n",
        "\n",
        "# Inicializa uma lista para armazenar os números quadrados perfeitos encontrados\n",
        "quadrados_perfeitos = []\n",
        "\n",
        "# Inicializa um contador e um loop para encontrar os 10 primeiros números quadrados perfeitos\n",
        "i = 1\n",
        "while len(quadrados_perfeitos) < 10:\n",
        "    quadrado = i ** 2\n",
        "    quadrados_perfeitos.append(quadrado)\n",
        "    i += 1\n",
        "\n",
        "# Imprime os 10 primeiros números quadrados perfeitos\n",
        "print(\"Os 10 primeiros números quadrados perfeitos são:\", quadrados_perfeitos)\n"
      ],
      "metadata": {
        "id": "nGusqu3SBlvo",
        "colab": {
          "base_uri": "https://localhost:8080/"
        },
        "outputId": "8b7fbbe0-964d-4055-8ec7-bfb4c844ba8c"
      },
      "execution_count": null,
      "outputs": [
        {
          "output_type": "stream",
          "name": "stdout",
          "text": [
            "Os 10 primeiros números quadrados perfeitos são: [1, 4, 9, 16, 25, 36, 49, 64, 81, 100]\n"
          ]
        }
      ]
    },
    {
      "cell_type": "markdown",
      "source": [
        "\n",
        "\n",
        "---\n",
        "\n"
      ],
      "metadata": {
        "id": "JKM9RSwzBtrH"
      }
    },
    {
      "cell_type": "code",
      "source": [
        "# 15. Faça um programa que peça ao usuário para adivinhar um número entre 1 e 10.\n",
        "#O programa deve continuar pedindo até que o usuário acerte o número.\n",
        "\n",
        "# Número que o usuário deve adivinhar\n",
        "numero_secreto = 7\n",
        "\n",
        "# Loop para continuar pedindo ao usuário para adivinhar até que ele acerte\n",
        "while True:\n",
        "    # Solicita ao usuário que adivinhe o número\n",
        "    tentativa = int(input(\"Adivinhe o número entre 1 e 10: \"))\n",
        "\n",
        "    # Verifica se a tentativa do usuário está correta\n",
        "    if tentativa == numero_secreto:\n",
        "        print(\"Parabéns! Você acertou o número.\")\n",
        "        break\n",
        "    else:\n",
        "        print(\"Tente novamente.\")"
      ],
      "metadata": {
        "id": "0_sGBPYFBu7C",
        "colab": {
          "base_uri": "https://localhost:8080/"
        },
        "outputId": "14e45856-10ae-4bdf-db1e-2ee39000f4de"
      },
      "execution_count": null,
      "outputs": [
        {
          "output_type": "stream",
          "name": "stdout",
          "text": [
            "Adivinhe o número entre 1 e 10: 5\n",
            "Tente novamente.\n",
            "Adivinhe o número entre 1 e 10: 6\n",
            "Tente novamente.\n",
            "Adivinhe o número entre 1 e 10: 4\n",
            "Tente novamente.\n",
            "Adivinhe o número entre 1 e 10: 7\n",
            "Parabéns! Você acertou o número.\n"
          ]
        }
      ]
    },
    {
      "cell_type": "markdown",
      "source": [
        "# Nível Intermediário (Conhecimento Básico):"
      ],
      "metadata": {
        "id": "p-AmcEJyA-7v"
      }
    },
    {
      "cell_type": "code",
      "source": [
        "# 16. Escreva um programa que calcule a média de uma lista de números\n",
        "# sem usar a função `sum()` e `len()`.\n",
        "\n",
        "# Lista de números\n",
        "numeros = [2, 4, 6, 8, 10]\n",
        "\n",
        "# Inicializa a variável para armazenar a soma dos números\n",
        "soma = 0\n",
        "\n",
        "# Inicializa a variável para contar o número de elementos na lista\n",
        "contador = 0\n",
        "\n",
        "# Loop para calcular a soma dos números e contar o número de elementos\n",
        "for numero in numeros:\n",
        "    soma += numero\n",
        "    contador += 1\n",
        "\n",
        "# Calcula a média dividindo a soma pelo número de elementos\n",
        "media = soma / contador\n",
        "\n",
        "# Imprime a média\n",
        "print(f\"A média dos números na lista é: {media:.1f}\")\n"
      ],
      "metadata": {
        "colab": {
          "base_uri": "https://localhost:8080/"
        },
        "id": "h66GYImJBlN7",
        "outputId": "1a66bd28-9413-448e-de8a-22173f5f8e64"
      },
      "execution_count": 32,
      "outputs": [
        {
          "output_type": "stream",
          "name": "stdout",
          "text": [
            "A média dos números na lista é: 6.0\n"
          ]
        }
      ]
    },
    {
      "cell_type": "markdown",
      "source": [
        "\n",
        "\n",
        "---\n",
        "\n"
      ],
      "metadata": {
        "id": "lsbqcbWFCTy8"
      }
    },
    {
      "cell_type": "code",
      "source": [
        "# 17. Crie um programa que calcule a série de Fibonacci até o enésimo termo fornecido pelo usuário.\n",
        "\n",
        "# Função para calcular a série de Fibonacci até o enésimo termo fornecido pelo usuário\n",
        "def fibonacci(n):\n",
        "    fibonacci_series = [0, 1]  # Inicializa a série de Fibonacci com os dois primeiros termos\n",
        "    # Calcula os próximos termos da série de Fibonacci até o enésimo termo\n",
        "    for i in range(2, n):\n",
        "        next_term = fibonacci_series[-1] + fibonacci_series[-2]\n",
        "        fibonacci_series.append(next_term)\n",
        "    return fibonacci_series\n",
        "\n",
        "# Solicita ao usuário o enésimo termo para calcular a série de Fibonacci\n",
        "n = int(input(\"Digite o enésimo termo para calcular a série de Fibonacci: \"))\n",
        "\n",
        "# Calcula e imprime a série de Fibonacci até o enésimo termo fornecido pelo usuário\n",
        "fibonacci_series = fibonacci(n)\n",
        "print(f\"A série de Fibonacci até o enésimo termo é: {fibonacci_series}\")\n"
      ],
      "metadata": {
        "colab": {
          "base_uri": "https://localhost:8080/"
        },
        "id": "tDWIFozVCVAw",
        "outputId": "e16e186a-7241-46c4-b1ae-38749e778afb"
      },
      "execution_count": 35,
      "outputs": [
        {
          "output_type": "stream",
          "name": "stdout",
          "text": [
            "Digite o enésimo termo para calcular a série de Fibonacci: 10\n",
            "A série de Fibonacci até o enésimo termo é: [0, 1, 1, 2, 3, 5, 8, 13, 21, 34]\n"
          ]
        }
      ]
    },
    {
      "cell_type": "markdown",
      "source": [
        "\n",
        "\n",
        "---\n",
        "\n"
      ],
      "metadata": {
        "id": "_dd2MIpaDh-j"
      }
    },
    {
      "cell_type": "code",
      "source": [
        "# 18. Faça um programa que inverta uma string usando um loop.\n",
        "\n",
        "# Solicita ao usuário que insira uma string\n",
        "string = input(\"Digite uma string: \")\n",
        "\n",
        "# Inicializa uma string vazia para armazenar a string invertida\n",
        "string_invertida = \"\"\n",
        "\n",
        "# Loop que percorre a string de trás para frente\n",
        "for i in range(len(string) - 1, -1, -1):\n",
        "    # Adiciona cada caractere da string original à string invertida\n",
        "    string_invertida += string[i]\n",
        "\n",
        "# Imprime a string invertida\n",
        "print(\"A string invertida é:\", string_invertida)\n"
      ],
      "metadata": {
        "colab": {
          "base_uri": "https://localhost:8080/"
        },
        "id": "E_tNwt8dDit_",
        "outputId": "0cd93011-f0a5-44cb-c2b2-1b24741738dc"
      },
      "execution_count": 36,
      "outputs": [
        {
          "output_type": "stream",
          "name": "stdout",
          "text": [
            "Digite uma string: eduarda\n",
            "A string invertida é: adraude\n"
          ]
        }
      ]
    },
    {
      "cell_type": "markdown",
      "source": [
        "\n",
        "\n",
        "---\n",
        "\n"
      ],
      "metadata": {
        "id": "txXw11_CD4Jz"
      }
    },
    {
      "cell_type": "code",
      "source": [
        "# 19. Escreva um programa que verifique se uma palavra é um palíndromo.\n",
        "\n",
        "# Solicita ao usuário que insira uma palavra\n",
        "palavra = input(\"Digite uma palavra para verificar se é um palíndromo: \")\n",
        "\n",
        "# Converte a palavra para minúsculas para ignorar a diferença entre maiúsculas e minúsculas\n",
        "palavra = palavra.lower()\n",
        "\n",
        "# Inicializa uma variável para armazenar a palavra invertida\n",
        "palavra_invertida = palavra[::-1]\n",
        "\n",
        "# Verifica se a palavra original é igual à palavra invertida\n",
        "if palavra == palavra_invertida:\n",
        "    print(f\"A palavra {palavra} é um palíndromo.\")\n",
        "else:\n",
        "    print(f\"A palavra {palavra} não é um palíndromo.\")\n"
      ],
      "metadata": {
        "colab": {
          "base_uri": "https://localhost:8080/"
        },
        "id": "6XFnnRR2D5BY",
        "outputId": "2748f1cc-a503-4535-bbc9-26e52187e7a0"
      },
      "execution_count": 40,
      "outputs": [
        {
          "output_type": "stream",
          "name": "stdout",
          "text": [
            "Digite uma palavra para verificar se é um palíndromo: osso\n",
            "A palavra osso é um palíndromo.\n"
          ]
        }
      ]
    },
    {
      "cell_type": "markdown",
      "source": [
        "\n",
        "\n",
        "---\n",
        "\n"
      ],
      "metadata": {
        "id": "o0JsVcAGE1Zk"
      }
    },
    {
      "cell_type": "code",
      "source": [
        "# 20. Crie um programa que calcule o valor da série harmônica até o enésimo termo\n",
        "# fornecido pelo usuário.\n",
        "\n",
        "# Solicita ao usuário o enésimo termo para calcular a série harmônica\n",
        "n = int(input(\"Digite um termo para calcular a série harmônica: \"))\n",
        "\n",
        "# Inicializa a variável para armazenar a soma da série harmônica\n",
        "soma = 0\n",
        "\n",
        "# Loop para calcular a série harmônica até o enésimo termo\n",
        "for i in range(1, n + 1):\n",
        "    soma += 1 / i\n",
        "\n",
        "# Imprime o valor da série harmônica até o enésimo termo fornecido pelo usuário\n",
        "print(f\"O valor da série harmônica até o enésimo termo é: {soma:.1f}\")\n"
      ],
      "metadata": {
        "colab": {
          "base_uri": "https://localhost:8080/"
        },
        "id": "AFe6de6BE2RZ",
        "outputId": "3b577eaf-c263-4cd8-9253-75d538ceb85e"
      },
      "execution_count": 43,
      "outputs": [
        {
          "output_type": "stream",
          "name": "stdout",
          "text": [
            "Digite um termo para calcular a série harmônica: 8\n",
            "O valor da série harmônica até o enésimo termo é: 2.7\n"
          ]
        }
      ]
    },
    {
      "cell_type": "markdown",
      "source": [
        "\n",
        "\n",
        "---\n",
        "\n"
      ],
      "metadata": {
        "id": "NV3qOY3XFcLx"
      }
    },
    {
      "cell_type": "code",
      "source": [
        "# 21. Faça um programa que converta uma lista de Celsius para Fahrenheit.\n",
        "\n",
        "# Função para converter Celsius para Fahrenheit\n",
        "def celsius_para_fahrenheit(celsius):\n",
        "    return (celsius * 9/5) + 32\n",
        "\n",
        "# Lista de temperaturas em Celsius\n",
        "temperaturas_celsius = [0, 10, 20, 30, 40]\n",
        "\n",
        "# Lista para armazenar as temperaturas convertidas em Fahrenheit\n",
        "temperaturas_fahrenheit = []\n",
        "\n",
        "# Loop para converter cada temperatura de Celsius para Fahrenheit e adicionar à lista\n",
        "for celsius in temperaturas_celsius:\n",
        "    fahrenheit = celsius_para_fahrenheit(celsius)\n",
        "    temperaturas_fahrenheit.append(fahrenheit)\n",
        "\n",
        "# Imprime as temperaturas convertidas em Fahrenheit\n",
        "print(f\"Temperaturas em Fahrenheit: {temperaturas_fahrenheit}\")\n"
      ],
      "metadata": {
        "colab": {
          "base_uri": "https://localhost:8080/"
        },
        "id": "ALfnfq4EFepI",
        "outputId": "82b1a386-8168-48ee-ce7e-253ed8abfe9c"
      },
      "execution_count": 46,
      "outputs": [
        {
          "output_type": "stream",
          "name": "stdout",
          "text": [
            "Temperaturas em Fahrenheit: [32.0, 50.0, 68.0, 86.0, 104.0]\n"
          ]
        }
      ]
    },
    {
      "cell_type": "markdown",
      "source": [
        "\n",
        "\n",
        "---\n",
        "\n"
      ],
      "metadata": {
        "id": "A4RhTyosGemw"
      }
    },
    {
      "cell_type": "code",
      "source": [
        "# 22. Escreva um programa que encontre o máximo e o mínimo de uma lista de\n",
        "# números sem usar as funções `max()` e `min()`.\n",
        "\n",
        "# Lista de números\n",
        "numeros = [5, 10, 3, 8, 15, 1]\n",
        "\n",
        "# Inicializa as variáveis para armazenar o máximo e o mínimo\n",
        "maximo = numeros[0]\n",
        "minimo = numeros[0]\n",
        "\n",
        "# Loop para encontrar o máximo e o mínimo da lista\n",
        "for numero in numeros:\n",
        "    # Verifica se o número atual é maior que o máximo\n",
        "    if numero > maximo:\n",
        "        maximo = numero\n",
        "    # Verifica se o número atual é menor que o mínimo\n",
        "    if numero < minimo:\n",
        "        minimo = numero\n",
        "\n",
        "# Imprime o máximo e o mínimo da lista\n",
        "print(\"O máximo da lista é:\", maximo)\n",
        "print(\"O mínimo da lista é:\", minimo)"
      ],
      "metadata": {
        "colab": {
          "base_uri": "https://localhost:8080/"
        },
        "id": "edygYULXGfyd",
        "outputId": "1a261f5d-315f-47f6-db5f-f232483ce16e"
      },
      "execution_count": 47,
      "outputs": [
        {
          "output_type": "stream",
          "name": "stdout",
          "text": [
            "O máximo da lista é: 15\n",
            "O mínimo da lista é: 1\n"
          ]
        }
      ]
    },
    {
      "cell_type": "markdown",
      "source": [
        "\n",
        "\n",
        "---\n",
        "\n"
      ],
      "metadata": {
        "id": "142rvxH1Gyv6"
      }
    },
    {
      "cell_type": "code",
      "source": [
        "# 23. Crie um programa que imprima a sequência de números de 1 até 100,\n",
        "# mas substitua os múltiplos de 3 por \"Fizz\" e os múltiplos de 5 por \"Buzz\".\n",
        "\n",
        "# Loop que vai de 1 a 100\n",
        "for i in range(1, 101):\n",
        "    # Verifica se o número é múltiplo de 3 e 5\n",
        "    if i % 3 == 0 and i % 5 == 0:\n",
        "        print(\"FizzBuzz\")\n",
        "    # Verifica se o número é múltiplo apenas de 3\n",
        "    elif i % 3 == 0:\n",
        "        print(\"Fizz\")\n",
        "    # Verifica se o número é múltiplo apenas de 5\n",
        "    elif i % 5 == 0:\n",
        "        print(\"Buzz\")\n",
        "    # Se não for múltiplo de 3 ou 5, imprime o número\n",
        "    else:\n",
        "        print(i)\n"
      ],
      "metadata": {
        "colab": {
          "base_uri": "https://localhost:8080/"
        },
        "id": "Zyso3qC8Gz_U",
        "outputId": "d5f1e227-39b2-42b9-ca0b-5a4e42036661"
      },
      "execution_count": 48,
      "outputs": [
        {
          "output_type": "stream",
          "name": "stdout",
          "text": [
            "1\n",
            "2\n",
            "Fizz\n",
            "4\n",
            "Buzz\n",
            "Fizz\n",
            "7\n",
            "8\n",
            "Fizz\n",
            "Buzz\n",
            "11\n",
            "Fizz\n",
            "13\n",
            "14\n",
            "FizzBuzz\n",
            "16\n",
            "17\n",
            "Fizz\n",
            "19\n",
            "Buzz\n",
            "Fizz\n",
            "22\n",
            "23\n",
            "Fizz\n",
            "Buzz\n",
            "26\n",
            "Fizz\n",
            "28\n",
            "29\n",
            "FizzBuzz\n",
            "31\n",
            "32\n",
            "Fizz\n",
            "34\n",
            "Buzz\n",
            "Fizz\n",
            "37\n",
            "38\n",
            "Fizz\n",
            "Buzz\n",
            "41\n",
            "Fizz\n",
            "43\n",
            "44\n",
            "FizzBuzz\n",
            "46\n",
            "47\n",
            "Fizz\n",
            "49\n",
            "Buzz\n",
            "Fizz\n",
            "52\n",
            "53\n",
            "Fizz\n",
            "Buzz\n",
            "56\n",
            "Fizz\n",
            "58\n",
            "59\n",
            "FizzBuzz\n",
            "61\n",
            "62\n",
            "Fizz\n",
            "64\n",
            "Buzz\n",
            "Fizz\n",
            "67\n",
            "68\n",
            "Fizz\n",
            "Buzz\n",
            "71\n",
            "Fizz\n",
            "73\n",
            "74\n",
            "FizzBuzz\n",
            "76\n",
            "77\n",
            "Fizz\n",
            "79\n",
            "Buzz\n",
            "Fizz\n",
            "82\n",
            "83\n",
            "Fizz\n",
            "Buzz\n",
            "86\n",
            "Fizz\n",
            "88\n",
            "89\n",
            "FizzBuzz\n",
            "91\n",
            "92\n",
            "Fizz\n",
            "94\n",
            "Buzz\n",
            "Fizz\n",
            "97\n",
            "98\n",
            "Fizz\n",
            "Buzz\n"
          ]
        }
      ]
    },
    {
      "cell_type": "markdown",
      "source": [
        "\n",
        "\n",
        "---\n",
        "\n"
      ],
      "metadata": {
        "id": "ATSUvGPeHPS9"
      }
    },
    {
      "cell_type": "code",
      "source": [
        "# 24. Faça um programa que encontre todos os números primos até 100.\n",
        "\n",
        "# Função para verificar se um número é primo\n",
        "def is_prime(n):\n",
        "    if n <= 1:\n",
        "        return False\n",
        "    if n == 2:\n",
        "        return True\n",
        "    if n % 2 == 0:\n",
        "        return False\n",
        "    for i in range(3, int(n**0.5) + 1, 2):\n",
        "        if n % i == 0:\n",
        "            return False\n",
        "    return True\n",
        "\n",
        "# Loop para encontrar todos os números primos até 100\n",
        "print(\"Números primos até 100:\")\n",
        "for i in range(2, 101):\n",
        "    if is_prime(i):\n",
        "        print(i, end=\" \")\n"
      ],
      "metadata": {
        "colab": {
          "base_uri": "https://localhost:8080/"
        },
        "id": "Zr3ZApqDHQYA",
        "outputId": "f8fdaa8b-c767-4144-91df-bae22efc8dce"
      },
      "execution_count": 49,
      "outputs": [
        {
          "output_type": "stream",
          "name": "stdout",
          "text": [
            "Números primos até 100:\n",
            "2 3 5 7 11 13 17 19 23 29 31 37 41 43 47 53 59 61 67 71 73 79 83 89 97 "
          ]
        }
      ]
    },
    {
      "cell_type": "markdown",
      "source": [
        "\n",
        "\n",
        "---\n",
        "\n"
      ],
      "metadata": {
        "id": "7CoMmYSQHrL1"
      }
    },
    {
      "cell_type": "code",
      "source": [
        "# 25. Escreva um programa que verifique se um número é um quadrado perfeito.\n",
        "\n",
        "# Função para verificar se um número é um quadrado perfeito\n",
        "def is_perfect_square(n):\n",
        "    # Verifica se a raiz quadrada do número é um número inteiro\n",
        "    if n >= 0 and int(n**0.5)**2 == n:\n",
        "        return True\n",
        "    else:\n",
        "        return False\n",
        "\n",
        "# Solicita ao usuário que insira um número\n",
        "numero = int(input(\"Digite um número inteiro para verificar se é um quadrado perfeito: \"))\n",
        "\n",
        "# Verifica se o número é um quadrado perfeito e imprime o resultado\n",
        "if is_perfect_square(numero):\n",
        "    print(f\"{numero} é um quadrado perfeito.\")\n",
        "else:\n",
        "    print(f\"{numero} não é um quadrado perfeito.\")\n"
      ],
      "metadata": {
        "colab": {
          "base_uri": "https://localhost:8080/"
        },
        "id": "GfQ-DxwrHsyD",
        "outputId": "7660e259-f5f2-49d9-c0c5-70853ac6a4d0"
      },
      "execution_count": 53,
      "outputs": [
        {
          "output_type": "stream",
          "name": "stdout",
          "text": [
            "Digite um número inteiro para verificar se é um quadrado perfeito: 81\n",
            "81 é um quadrado perfeito.\n"
          ]
        }
      ]
    },
    {
      "cell_type": "markdown",
      "source": [
        "\n",
        "\n",
        "---\n",
        "\n"
      ],
      "metadata": {
        "id": "t9IslJHYIWtv"
      }
    },
    {
      "cell_type": "markdown",
      "source": [
        "# Nível Avançado:"
      ],
      "metadata": {
        "id": "o9VcLSZvIYIZ"
      }
    },
    {
      "cell_type": "code",
      "source": [
        "# 26. Crie um programa que gere os números de Fibonacci até\n",
        "# um limite fornecido pelo usuário, usando uma função geradora.\n",
        "\n",
        "# Função geradora para gerar os números de Fibonacci até um limite\n",
        "def fibonacci(limite):\n",
        "    a, b = 0, 1\n",
        "    while a <= limite:\n",
        "        yield a\n",
        "        a, b = b, a + b\n",
        "\n",
        "# Solicita ao usuário o limite para gerar os números de Fibonacci\n",
        "limite = int(input(\"Digite o limite para gerar os números de Fibonacci: \"))\n",
        "\n",
        "# Imprime os números de Fibonacci até o limite fornecido pelo usuário\n",
        "print(\"Números de Fibonacci até\", limite, \":\")\n",
        "for numero in fibonacci(limite):\n",
        "    print(numero, end=\" \")\n"
      ],
      "metadata": {
        "colab": {
          "base_uri": "https://localhost:8080/"
        },
        "id": "3lucx4UdIbl3",
        "outputId": "10815c61-d2b1-440b-cbe1-c71b4d6799fd"
      },
      "execution_count": 55,
      "outputs": [
        {
          "output_type": "stream",
          "name": "stdout",
          "text": [
            "Digite o limite para gerar os números de Fibonacci: 34\n",
            "Números de Fibonacci até 34 :\n",
            "0 1 1 2 3 5 8 13 21 34 "
          ]
        }
      ]
    },
    {
      "cell_type": "markdown",
      "source": [
        "\n",
        "\n",
        "---\n",
        "\n"
      ],
      "metadata": {
        "id": "vP8ec8ZpJvpv"
      }
    },
    {
      "cell_type": "code",
      "source": [
        "# 27. Faça um programa que implemente o algoritmo de ordenação Bubble Sort.\n",
        "\n",
        "def bubble_sort(lista):\n",
        "    # Obtém o tamanho da lista\n",
        "    n = len(lista)\n",
        "\n",
        "    # Loop externo para percorrer toda a lista\n",
        "    for i in range(n):\n",
        "        # Define uma variável para verificar se houve trocas nesta iteração\n",
        "        trocas = False\n",
        "\n",
        "        # Loop interno para comparar os elementos e realizar as trocas\n",
        "        for j in range(0, n - i - 1):\n",
        "            # Compara elementos adjacentes\n",
        "            if lista[j] > lista[j + 1]:\n",
        "                # Realiza a troca\n",
        "                lista[j], lista[j + 1] = lista[j + 1], lista[j]\n",
        "                # Define que houve trocas nesta iteração\n",
        "                trocas = True\n",
        "\n",
        "        # Se não houver trocas nesta iteração, a lista está ordenada\n",
        "        if not trocas:\n",
        "            break\n",
        "\n",
        "# Exemplo de uso do Bubble Sort\n",
        "lista = [64, 34, 25, 12, 22, 11, 90]\n",
        "bubble_sort(lista)\n",
        "print(\"Lista ordenada usando Bubble Sort:\", lista)\n"
      ],
      "metadata": {
        "colab": {
          "base_uri": "https://localhost:8080/"
        },
        "id": "Dz_bRD00Jwko",
        "outputId": "987ba3ce-eb26-4abb-f3f6-53bf59b1b16c"
      },
      "execution_count": 56,
      "outputs": [
        {
          "output_type": "stream",
          "name": "stdout",
          "text": [
            "Lista ordenada usando Bubble Sort: [11, 12, 22, 25, 34, 64, 90]\n"
          ]
        }
      ]
    },
    {
      "cell_type": "markdown",
      "source": [
        "\n",
        "\n",
        "---\n",
        "\n"
      ],
      "metadata": {
        "id": "FtfZCeqqKAZx"
      }
    },
    {
      "cell_type": "code",
      "source": [
        "# 28. Escreva um programa que determine se dois strings são anagramas.\n",
        "\n",
        "def sao_anagramas(string1, string2):\n",
        "    # Remove espaços em branco e converte para minúsculas\n",
        "    string1 = string1.replace(\" \", \"\").lower()\n",
        "    string2 = string2.replace(\" \", \"\").lower()\n",
        "\n",
        "    # Verifica se as strings têm o mesmo número de caracteres\n",
        "    if len(string1) != len(string2):\n",
        "        return False\n",
        "\n",
        "    # Converte as strings em listas para poder ordená-las\n",
        "    lista1 = sorted(string1)\n",
        "    lista2 = sorted(string2)\n",
        "\n",
        "    # Verifica se as listas são iguais\n",
        "    return lista1 == lista2\n",
        "\n",
        "# Solicita as strings ao usuário\n",
        "string1 = input(\"Digite a primeira string: \")\n",
        "string2 = input(\"Digite a segunda string: \")\n",
        "\n",
        "if sao_anagramas(string1, string2):\n",
        "    print(f\"'{string1}' e '{string2}' são anagramas.\")\n",
        "else:\n",
        "    print(f\"'{string1}' e '{string2}' não são anagramas.\")\n"
      ],
      "metadata": {
        "colab": {
          "base_uri": "https://localhost:8080/"
        },
        "id": "7dbCbUQAKCgS",
        "outputId": "17656016-55f0-42bf-dba5-2e2097c69876"
      },
      "execution_count": 58,
      "outputs": [
        {
          "output_type": "stream",
          "name": "stdout",
          "text": [
            "Digite a primeira string: duda\n",
            "Digite a segunda string: duda\n",
            "'duda' e 'duda' são anagramas.\n"
          ]
        }
      ]
    },
    {
      "cell_type": "markdown",
      "source": [
        "\n",
        "\n",
        "---\n",
        "\n"
      ],
      "metadata": {
        "id": "CWkfJdcAKmbk"
      }
    },
    {
      "cell_type": "code",
      "source": [
        "def raiz_quadrada(numero):\n",
        "    # Verifica se o número é negativo\n",
        "    if numero < 0:\n",
        "        return \"Não é possível calcular a raiz quadrada de um número negativo.\"\n",
        "\n",
        "    # Caso especial para a raiz quadrada de 0\n",
        "    if numero == 0:\n",
        "        return 0\n",
        "\n",
        "    # Inicializa uma estimativa inicial para a raiz quadrada\n",
        "    estimativa = numero / 2\n",
        "\n",
        "    # Define o número máximo de iterações\n",
        "    max_iteracoes = 100\n",
        "\n",
        "    # Loop para refinar a estimativa\n",
        "    for _ in range(max_iteracoes):\n",
        "        # Refina a estimativa usando o método de Newton-Raphson\n",
        "        estimativa = (estimativa + numero / estimativa) / 2\n",
        "\n",
        "    return estimativa\n",
        "\n",
        "# Exemplo de uso\n",
        "numero = int(input(\"Digite um número para calcular a raiz quadrada: \"))\n",
        "print(f\"A raiz quadrada de {numero} é: {raiz_quadrada(numero)}\")\n"
      ],
      "metadata": {
        "colab": {
          "base_uri": "https://localhost:8080/"
        },
        "id": "oihc5jxCKnYS",
        "outputId": "e575c8b3-b4ae-4fe5-bac5-e943a9264651"
      },
      "execution_count": 63,
      "outputs": [
        {
          "output_type": "stream",
          "name": "stdout",
          "text": [
            "Digite um número para calcular a raiz quadrada: 81\n",
            "A raiz quadrada de 81 é: 9.0\n"
          ]
        }
      ]
    },
    {
      "cell_type": "markdown",
      "source": [
        "\n",
        "\n",
        "---\n",
        "\n"
      ],
      "metadata": {
        "id": "N1FNx1-YNB7N"
      }
    },
    {
      "cell_type": "code",
      "source": [
        "# 30. Faça um programa que simule o jogo \"Pedra, Papel e Tesoura\" contra o computador,\n",
        "# onde o usuário faz sua escolha e o computador escolhe aleatoriamente.\n",
        "\n",
        "import random\n",
        "\n",
        "def jogo_pedra_papel_tesoura(escolha_usuario):\n",
        "    opcoes = [\"pedra\", \"papel\", \"tesoura\"]\n",
        "    escolha_computador = random.choice(opcoes)\n",
        "\n",
        "    print(\"O computador escolheu:\", escolha_computador)\n",
        "    print(\"Você escolheu:\", escolha_usuario)\n",
        "\n",
        "    if escolha_usuario == escolha_computador:\n",
        "        print(\"Empate!\")\n",
        "    elif (escolha_usuario == \"pedra\" and escolha_computador == \"tesoura\") or \\\n",
        "         (escolha_usuario == \"papel\" and escolha_computador == \"pedra\") or \\\n",
        "         (escolha_usuario == \"tesoura\" and escolha_computador == \"papel\"):\n",
        "        print(\"Você ganhou!\")\n",
        "    else:\n",
        "        print(\"Você perdeu!\")\n",
        "\n",
        "# Solicita a escolha do usuário\n",
        "escolha_usuario = input(\"Escolha entre pedra, papel ou tesoura: \").lower()\n",
        "\n",
        "# Verifica se a escolha do usuário é válida\n",
        "if escolha_usuario in [\"pedra\", \"papel\", \"tesoura\"]:\n",
        "    jogo_pedra_papel_tesoura(escolha_usuario)\n",
        "else:\n",
        "    print(\"Escolha inválida. Por favor, escolha entre pedra, papel ou tesoura.\")\n"
      ],
      "metadata": {
        "colab": {
          "base_uri": "https://localhost:8080/"
        },
        "id": "aHnHr5n-NCzM",
        "outputId": "26b62a07-88fa-497c-ac16-629ae44766bd"
      },
      "execution_count": 64,
      "outputs": [
        {
          "output_type": "stream",
          "name": "stdout",
          "text": [
            "Escolha entre pedra, papel ou tesoura: pedra\n",
            "O computador escolheu: pedra\n",
            "Você escolheu: pedra\n",
            "Empate!\n"
          ]
        }
      ]
    }
  ]
}